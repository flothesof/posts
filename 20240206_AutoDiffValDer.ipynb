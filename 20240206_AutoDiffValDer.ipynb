{
 "cells": [
  {
   "cell_type": "markdown",
   "id": "bd4fde2c-ff82-4c90-810c-356a15603526",
   "metadata": {},
   "source": [
    "I’ve been following the topic of automatic differentiation for quite a few years now, without ever managing to dive deep into it.\n",
    "\n",
    "Recent readings have prompted me to try again.\n",
    "\n",
    "A very quick introduction to the topic is to say that there are many ways of computing derivatives:\n",
    "\n",
    "- you could to it manually (by hand, applying the rules of calculus)\n",
    "- you could do it symbolically (using a computer algebra system, e.g. Sympy in Python)\n",
    "- using finite differences (this is a numerical approximation relying on Taylor expansions)\n",
    "- using automatic differentiation\n",
    "\n",
    "\n",
    "Looking deeper into automatic differentiation, two topics usually come up:\n",
    "\n",
    "- forward mode (often said to be similar to how you usually apply the chain rule in calculus)\n",
    "- reverse mode (of which a special case is the backpropagation algorithm typically used when training neural networks)\n",
    "\n",
    "Today, I’d like to follow a paper proposing an implementation of the forward mode: \"Introduction to Automatic Differentiation and MATLAB Object-Oriented Programming\" by Richard Neidinger, which can be found at https://www.neidinger.net/SIAMRev74362.pdf.\n",
    "\n",
    "The paper proposes to compute the derivative, in an automatic differentiation way, of the function $y = x \\sin(x^2)$ at $x=3$ using an implementation of value and derivative (*valder*).\n",
    "\n",
    "To reach this goal, we need the following building blocks:\n",
    "\n",
    "- write a class that allows representing a *valder*\n",
    "- make it able to operate on functions $x \\rightarrow x^2$, $x \\rightarrow \\sin(x)$\n",
    "- make it able to operate on the product of two *valder*\n",
    "\n",
    "Let’s get started."
   ]
  },
  {
   "cell_type": "markdown",
   "id": "7cc6c6e1-0ab2-4f30-b296-9a07fe14052b",
   "metadata": {},
   "source": [
    "# A class to represent a *valder*"
   ]
  },
  {
   "cell_type": "code",
   "execution_count": 1,
   "id": "f704a838-021d-4787-a63b-ce2351d6c859",
   "metadata": {},
   "outputs": [],
   "source": [
    "class Valder:\n",
    "    def __init__(self, val=None, der=None):\n",
    "        if val is None:\n",
    "            raise RuntimeError(\"User should provide at least one value to init Valder class!\")\n",
    "        else:\n",
    "            if der is None:\n",
    "                # shorthand for a constant value\n",
    "                self.val = val\n",
    "                self.der = 0\n",
    "            else:\n",
    "                # general case\n",
    "                self.val = val\n",
    "                self.der = der\n",
    "                \n",
    "    def __repr__(self):\n",
    "        return f\"Valder(val={self.val}, der={self.der})\""
   ]
  },
  {
   "cell_type": "markdown",
   "id": "05e25c41-05a1-4805-b944-5415ff9369f7",
   "metadata": {},
   "source": [
    "Let’s try this out."
   ]
  },
  {
   "cell_type": "code",
   "execution_count": 2,
   "id": "230e0247-303d-4883-8337-6994a40d223f",
   "metadata": {},
   "outputs": [
    {
     "data": {
      "text/plain": [
       "Valder(val=1, der=0)"
      ]
     },
     "execution_count": 2,
     "metadata": {},
     "output_type": "execute_result"
    }
   ],
   "source": [
    "Valder(1)"
   ]
  },
  {
   "cell_type": "code",
   "execution_count": 3,
   "id": "fcfc9530-2ed0-48ea-bc71-3ecd1fa476b3",
   "metadata": {},
   "outputs": [
    {
     "data": {
      "text/plain": [
       "Valder(val=1, der=1)"
      ]
     },
     "execution_count": 3,
     "metadata": {},
     "output_type": "execute_result"
    }
   ],
   "source": [
    "Valder(1, 1)"
   ]
  },
  {
   "cell_type": "markdown",
   "id": "6d5c8409-571e-4ae5-8b08-fd8441d957b8",
   "metadata": {},
   "source": [
    "Now, you’re wondering, what does the `der` part mean? Quite simply, it is the derivative, with respect to $x$ of the expression represented.\n",
    "\n",
    "Imagine we want to represent the function $f(x) = x$ at x=1. It’s value would be 1 and its derivative would also be 1."
   ]
  },
  {
   "cell_type": "code",
   "execution_count": 4,
   "id": "1dddc370-15a5-4fbb-8301-721017d0549e",
   "metadata": {},
   "outputs": [
    {
     "data": {
      "text/plain": [
       "Valder(val=1, der=1)"
      ]
     },
     "execution_count": 4,
     "metadata": {},
     "output_type": "execute_result"
    }
   ],
   "source": [
    "# this is f(x)=x at x=1\n",
    "Valder(1, 1)"
   ]
  },
  {
   "cell_type": "markdown",
   "id": "ffe034ac-ebc9-42f3-90db-faaad3f109e8",
   "metadata": {},
   "source": [
    "With that being said, let’s move on to the second item on the list."
   ]
  },
  {
   "cell_type": "markdown",
   "id": "28dcc600-99ad-47ad-9f8a-51259e4e6b07",
   "metadata": {},
   "source": [
    "# Make it operate on the square function"
   ]
  },
  {
   "cell_type": "markdown",
   "id": "88518f15-b452-420c-8b29-ca4dfb3c506a",
   "metadata": {},
   "source": [
    "The chain rule has a very cool property that makes it able to \"propagate\" things along a graph.\n",
    "\n",
    "When we write the derivative of $f(g(x))$, we could write it either:\n",
    "\n",
    "- $g'(x) \\cdot f'(g(x))$\n",
    "- or $f'(g(x)) \\cdot g'(x)$\n",
    "\n",
    "In this context, the second way of writing is the more relevant, because it allows to defer the computation of $g'(x)$ to a later moment. To illustrate what I mean, let’s pretend we want to compute the derivative of $\\exp(\\sin(\\sin(x)))$ w.r.t. to $x$. Applying the second formula we can say in a first step that we first derivate the exponential, which yields an exponential again and then multiply it by the derivative of $\\sin(\\sin(x))$. This is very handy when writing on pen and paper because it means we can write the terms later on. \n",
    "\n",
    "There is similarity with this idea when we compute the derivative of the square function using a `Valder`.\n",
    "\n",
    "We know that $(x^2)' = 2 x$. But what if instead of $x$ we put in a function in the square operator?\n",
    "\n",
    "In that case, $$(f^2)' = \\dfrac{df ^2}{df} \\cdot df = 2 f f'$$\n",
    "\n",
    "The above expression means that if we know the value of $f'$, we can know compute the value of $(f^2)'$ just by multiplying it with $2 f$. This is exactly the recipe we will apply to the `der` part of the `Valder` making a square!"
   ]
  },
  {
   "cell_type": "code",
   "execution_count": 5,
   "id": "d30971ab-8600-4e2e-8f8b-84d1e75fb9bf",
   "metadata": {},
   "outputs": [],
   "source": [
    "def square(valder):\n",
    "    x, dx = valder.val, valder.der\n",
    "    return Valder(x * x, 2 * x * dx)"
   ]
  },
  {
   "cell_type": "markdown",
   "id": "a3bfc145-29f7-4c83-81ce-71f0dd3faeeb",
   "metadata": {},
   "source": [
    "Let’s test this:"
   ]
  },
  {
   "cell_type": "code",
   "execution_count": 6,
   "id": "09e567a3-71b0-470f-b392-a1add3f5ec41",
   "metadata": {},
   "outputs": [
    {
     "data": {
      "text/plain": [
       "Valder(val=1, der=2)"
      ]
     },
     "execution_count": 6,
     "metadata": {},
     "output_type": "execute_result"
    }
   ],
   "source": [
    "x = Valder(1, 1) \n",
    "square(x) # f(x) = x^2 at x = 1"
   ]
  },
  {
   "cell_type": "code",
   "execution_count": 7,
   "id": "bf38cab6-6776-462e-8b07-200ccbb513fb",
   "metadata": {},
   "outputs": [
    {
     "data": {
      "text/plain": [
       "Valder(val=9, der=6)"
      ]
     },
     "execution_count": 7,
     "metadata": {},
     "output_type": "execute_result"
    }
   ],
   "source": [
    "x = Valder(3, 1) \n",
    "square(x) # f(x) = x^2 at x = 3"
   ]
  },
  {
   "cell_type": "markdown",
   "id": "e7bb92a7-82d5-4d39-bd79-70d9038cc1e0",
   "metadata": {},
   "source": [
    "# The sin function"
   ]
  },
  {
   "cell_type": "markdown",
   "id": "e6ac339a-5897-484d-9e59-8fb4e0bee232",
   "metadata": {},
   "source": [
    "The implementation for the sinus function is quite similar, based on \n",
    "\n",
    "$$\n",
    "\\sin(f)' = \\frac{d \\sin(f)}{ df } df = \\cos(f) df \n",
    "$$"
   ]
  },
  {
   "cell_type": "code",
   "execution_count": 8,
   "id": "a8a6615b-f48c-4d61-8d19-d8836d28654b",
   "metadata": {},
   "outputs": [],
   "source": [
    "from math import sin as math_sin, cos as math_cos\n",
    "\n",
    "def sin(valder):\n",
    "    x, dx = valder.val, valder.der\n",
    "    return Valder(math_sin(x), math_cos(x) * dx)"
   ]
  },
  {
   "cell_type": "markdown",
   "id": "06f8d665-c28b-4978-b490-0f93b1f556c4",
   "metadata": {},
   "source": [
    "Again, let’s see what it gives."
   ]
  },
  {
   "cell_type": "code",
   "execution_count": 9,
   "id": "39363a06-9c7f-485c-b582-30383835b735",
   "metadata": {},
   "outputs": [
    {
     "data": {
      "text/plain": [
       "Valder(val=0.0, der=1.0)"
      ]
     },
     "execution_count": 9,
     "metadata": {},
     "output_type": "execute_result"
    }
   ],
   "source": [
    "x = Valder(0, 1)\n",
    "sin(x) # sin(0)=0, cos(0)=1"
   ]
  },
  {
   "cell_type": "markdown",
   "id": "0b8a3c5e-98d9-449d-8e8e-5f9f5a7540c3",
   "metadata": {},
   "source": [
    "# Make it able to operate on the product of two valder"
   ]
  },
  {
   "cell_type": "markdown",
   "id": "c939e4e0-d610-4714-8117-4a406c58597d",
   "metadata": {},
   "source": [
    "Now the last step is to make our framework work is to implement the operation that computes a derivative of a product.\n",
    "\n",
    "The math is that $(f g) ' = f'g + f g'$. "
   ]
  },
  {
   "cell_type": "code",
   "execution_count": 10,
   "id": "7b26f3ff-8872-43e8-a996-1ac263df7727",
   "metadata": {},
   "outputs": [],
   "source": [
    "def prod(valder1, valder2):\n",
    "    x, dx = valder1.val, valder1.der\n",
    "    y, dy = valder2.val, valder2.der\n",
    "    \n",
    "    return Valder(x * y, dx * y + x * dy)"
   ]
  },
  {
   "cell_type": "code",
   "execution_count": 11,
   "id": "b24dc528-2237-4257-8370-f612f13d7c78",
   "metadata": {},
   "outputs": [
    {
     "data": {
      "text/plain": [
       "(Valder(val=4, der=4), Valder(val=4, der=4))"
      ]
     },
     "execution_count": 11,
     "metadata": {},
     "output_type": "execute_result"
    }
   ],
   "source": [
    "x = Valder(2, 1)\n",
    "\n",
    "prod(x, x), square(x) # x*x and x^2 should give same results"
   ]
  },
  {
   "cell_type": "markdown",
   "id": "f5e98a29-e40b-40bf-a004-d9b753380f20",
   "metadata": {},
   "source": [
    "# Combining things and computing a complex derivative"
   ]
  },
  {
   "cell_type": "markdown",
   "id": "77e4750b-6205-4981-9777-abed187fcfa6",
   "metadata": {},
   "source": [
    "We can now compute the derivative of $y = x \\sin(x^2)$ at $x=3$."
   ]
  },
  {
   "cell_type": "code",
   "execution_count": 12,
   "id": "fb830a7e-ec08-4792-bea1-30dc71344da3",
   "metadata": {},
   "outputs": [
    {
     "data": {
      "text/plain": [
       "Valder(val=1.2363554557252698, der=-15.988226228682427)"
      ]
     },
     "execution_count": 12,
     "metadata": {},
     "output_type": "execute_result"
    }
   ],
   "source": [
    "x = Valder(3, 1)\n",
    "prod(x, sin(square(x)))"
   ]
  },
  {
   "cell_type": "markdown",
   "id": "27bb0863-6091-4691-b4e7-ccb8277664f6",
   "metadata": {},
   "source": [
    "Let’s check our result with finite differences:"
   ]
  },
  {
   "cell_type": "code",
   "execution_count": 13,
   "id": "9b30cf49-fe2d-4633-99a4-37b4e41dca09",
   "metadata": {},
   "outputs": [
    {
     "data": {
      "text/plain": [
       "(1.2363554557252698, -15.988226431673525)"
      ]
     },
     "execution_count": 13,
     "metadata": {},
     "output_type": "execute_result"
    }
   ],
   "source": [
    "import numpy as np\n",
    "eps = 1e-8\n",
    "\n",
    "3 * np.sin(3**2), ((3 + eps) * np.sin((3 + eps)**2) - 3 * np.sin(3**2)) / eps"
   ]
  },
  {
   "cell_type": "markdown",
   "id": "c99ce4f3-40ee-4c5d-9a55-0dcbb33352c3",
   "metadata": {},
   "source": [
    "Now, that’s a very satisfying agreement :)"
   ]
  },
  {
   "cell_type": "markdown",
   "id": "147d480f-0440-40df-9c41-f69a9e438705",
   "metadata": {},
   "source": [
    "# Using our system to implement Newton’s method"
   ]
  },
  {
   "cell_type": "markdown",
   "id": "d297ae5a-7f7e-4e9d-ba42-e177770d81e5",
   "metadata": {},
   "source": [
    "With that first part in place, the paper then introduces the following function $f(x) = e^{-\\sqrt{x}} \\sin(x \\ln(1 + x^2))$. \n",
    "\n",
    "Let’s implement the missing parts so that we can plot the function and its derivative over a range of values."
   ]
  },
  {
   "cell_type": "code",
   "execution_count": 14,
   "id": "5233272f-a516-42a3-9aa9-833e131b50a1",
   "metadata": {},
   "outputs": [
    {
     "data": {
      "text/plain": [
       "(0.2350607172604515, 0.36160858251472927)"
      ]
     },
     "execution_count": 14,
     "metadata": {},
     "output_type": "execute_result"
    }
   ],
   "source": [
    "from math import exp as math_exp, log as math_log, sqrt as math_sqrt\n",
    "\n",
    "def exp(valder):\n",
    "    x, dx = valder.val, valder.der\n",
    "    return Valder(math_exp(x), math_exp(x) * dx)\n",
    "\n",
    "def ln(valder):\n",
    "    x, dx = valder.val, valder.der\n",
    "    return Valder(math_log(x), 1/x * dx)\n",
    "\n",
    "def sqrt(valder):\n",
    "    x, dx = valder.val, valder.der\n",
    "    return Valder(math_sqrt(x), 1/(2 * math_sqrt(x)) * dx)\n",
    "\n",
    "def add(valder1, valder2):\n",
    "    x, dx = valder1.val, valder1.der\n",
    "    y, dy = valder2.val, valder2.der\n",
    "    \n",
    "    return Valder(x + y, dx + dy)\n",
    "\n",
    "def f_and_df(a):\n",
    "    x = Valder(a, 1)\n",
    "    u = exp(prod(Valder(-1), sqrt(x)))\n",
    "    v = sin(prod(x, ln(add(Valder(1.), square(x)))))\n",
    "    y = prod(u, v)\n",
    "    return y.val, y.der\n",
    "\n",
    "f_and_df(1.)"
   ]
  },
  {
   "cell_type": "markdown",
   "id": "170c269f-0785-43e4-a729-2e25f0fe1aa7",
   "metadata": {},
   "source": [
    "Let’s plot this:"
   ]
  },
  {
   "cell_type": "code",
   "execution_count": 15,
   "id": "9f96e52f-7a3f-418e-9cce-d4c4f39eb6ac",
   "metadata": {},
   "outputs": [
    {
     "data": {
      "image/png": "[encoded data removed]",
      "text/plain": [
       "<Figure size 640x480 with 1 Axes>"
      ]
     },
     "metadata": {},
     "output_type": "display_data"
    }
   ],
   "source": [
    "import matplotlib.pyplot as plt\n",
    "\n",
    "x = np.linspace(0.01, 5, num=200)\n",
    "\n",
    "fig, ax = plt.subplots()\n",
    "ax.plot(x, [f_and_df(xx) for xx in x], label=['$f(x)$', \"$f'(x)$\"])\n",
    "ax.legend();"
   ]
  },
  {
   "cell_type": "markdown",
   "id": "ccd22c69-f19f-4724-a979-8ad37fff79ed",
   "metadata": {},
   "source": [
    "We can now use Newton’s method to compute a zero of this function closest to 5:"
   ]
  },
  {
   "cell_type": "code",
   "execution_count": 16,
   "id": "36c8d82c-881d-4568-953d-56951887be22",
   "metadata": {},
   "outputs": [
    {
     "data": {
      "text/plain": [
       "4.8870559674555425"
      ]
     },
     "execution_count": 16,
     "metadata": {},
     "output_type": "execute_result"
    }
   ],
   "source": [
    "def newton(a):\n",
    "    delta = 1\n",
    "    while abs(delta) > .000001:\n",
    "        f, df = f_and_df(a)\n",
    "        delta = f / df \n",
    "        a = a - delta\n",
    "    return a\n",
    "\n",
    "newton(5)"
   ]
  },
  {
   "cell_type": "markdown",
   "id": "48bcbb25-548b-4947-9a77-9f89d6a5a92b",
   "metadata": {},
   "source": [
    "We could also use this to compute the other zeros in the graph:"
   ]
  },
  {
   "cell_type": "code",
   "execution_count": 17,
   "id": "f9bb027d-2b83-46d1-bf8e-1e3c99cb9859",
   "metadata": {},
   "outputs": [
    {
     "data": {
      "text/plain": [
       "(1.341722663023364e-06,\n",
       " 1.9758175546652457,\n",
       " 2.845630206720267,\n",
       " 3.5854013034702708)"
      ]
     },
     "execution_count": 17,
     "metadata": {},
     "output_type": "execute_result"
    }
   ],
   "source": [
    "newton(1), newton(2), newton(3), newton(4)"
   ]
  },
  {
   "cell_type": "markdown",
   "id": "4b2feb2b-fc40-4a04-b9ba-03c21e10a976",
   "metadata": {},
   "source": [
    "# TL;DR"
   ]
  },
  {
   "cell_type": "markdown",
   "id": "d9fa7322-d923-4310-941f-5a305bb23c1e",
   "metadata": {},
   "source": [
    "In this post, we have implemented the basics of an automatic differentiation engine using the forward accumulation mode. Key features are that this mode operates directly on the values (think, floating point numbers) of the functions we are using and does not introduce any approximations (when compared to finite differences for example!).\n",
    "\n",
    "Of course this only touches a part of the iceberg, the next step would be to investigate the so-called reverse mode."
   ]
  },
  {
   "cell_type": "markdown",
   "id": "f966bd33-e9e6-4c21-a886-982f024eb280",
   "metadata": {},
   "source": [
    "*This post was entirely written using the Jupyter Notebook. Its content is BSD-licensed. You can see a static view or download this notebook with the help of nbviewer at [20240206_AutoDiffValDer.ipynb](http://nbviewer.ipython.org/urls/raw.github.com/flothesof/posts/master/20240206_AutoDiffValDer.ipynb).*"
   ]
  }
 ],
 "metadata": {
  "kernelspec": {
   "display_name": "Python 3 (ipykernel)",
   "language": "python",
   "name": "python3"
  },
  "language_info": {
   "codemirror_mode": {
    "name": "ipython",
    "version": 3
   },
   "file_extension": ".py",
   "mimetype": "text/x-python",
   "name": "python",
   "nbconvert_exporter": "python",
   "pygments_lexer": "ipython3",
   "version": "3.9.16"
  }
 },
 "nbformat": 4,
 "nbformat_minor": 5
}
