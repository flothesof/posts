{
 "cells": [
  {
   "cell_type": "markdown",
   "id": "43e8fa4e-0455-4b27-9ad5-c59db9a8fcac",
   "metadata": {},
   "source": [
    "This year, my colleague Xavier told me about the **doomsday algorithm**. This algorithm is about being able to mentally compute the day of the week for a given date.\n",
    "\n",
    "Although it wasn’t my plan to actually be able to do this, the subject became really interesting for me when I read the following on [wikipedia](https://en.wikipedia.org/wiki/Doomsday_rule): \n",
    "\n",
    "> It takes advantage of each year having a certain day of the week upon which certain easy-to-remember dates, called the doomsdays, fall; for example, the last day of February, April 4 (4/4), June 6 (6/6), August 8 (8/8), October 10 (10/10), and December 12 (12/12) all occur on the same day of the week in the year.\n",
    "\n",
    "To get a better understanding about this fun fact, let’s think for a moment about the calendar and how it works.\n",
    "\n",
    "Every year is either normal, meaning it has 365 days, or a leap year, meaning it has 366 days. The ordering of the months within the days is as follows:\n",
    "\n",
    "| month   | days  |\n",
    "|---------|-------|\n",
    "| January | 31    |\n",
    "| February | 28 or 29 (leap) |\n",
    "| March | 31 |\n",
    "| April | 30 |\n",
    "| May | 31 |\n",
    "| June | 30 |\n",
    "| July | 31 |\n",
    "| August | 31 |\n",
    "| September | 30 |\n",
    "| October | 31 |\n",
    "| November | 30 |\n",
    "| December | 31 |\n",
    "\n",
    "This is all, conventional and there are a number of oddities:\n",
    "- months alternate between 30 and 31 days\n",
    "- but July and August have 31 days - they don’t alternate\n",
    "- february is shorter than \"usual months\" and is changed by leap years\n",
    "\n",
    "With all this in mind, let’s start by setting up a standard year. We can represent dates by a tuple of numbers, e.g. (3, 15) for the 15th of March."
   ]
  },
  {
   "cell_type": "code",
   "execution_count": 1,
   "id": "7a645aca-aefa-407e-aa04-14a63deaa441",
   "metadata": {},
   "outputs": [
    {
     "data": {
      "text/plain": [
       "([(1, 1),\n",
       "  (1, 2),\n",
       "  (1, 3),\n",
       "  (1, 4),\n",
       "  (1, 5),\n",
       "  (1, 6),\n",
       "  (1, 7),\n",
       "  (1, 8),\n",
       "  (1, 9),\n",
       "  (1, 10)],\n",
       " 365)"
      ]
     },
     "execution_count": 1,
     "metadata": {},
     "output_type": "execute_result"
    }
   ],
   "source": [
    "year = []\n",
    "\n",
    "months = [31, 28, 31, 30, 31, 30, 31, 31, 30, 31, 30, 31]\n",
    "for month in range(len(months)):\n",
    "    days = months[month]\n",
    "    for day in range(days):\n",
    "        year.append((month + 1, day + 1))\n",
    "\n",
    "year[:10], len(year)"
   ]
  },
  {
   "cell_type": "markdown",
   "id": "bf673e92-a57b-4c81-a4fd-2086a45b8dcb",
   "metadata": {},
   "source": [
    "Now, how do the days of the week come into play here? If we code the weekdays as\n",
    "\n",
    "| number | weekday |\n",
    "| ------ | --------|\n",
    "| Sunday | 0 |\n",
    "| Monday | 1 |\n",
    "| Tuesday | 2 |\n",
    "| Wednesday | 3 |\n",
    "| Thursday | 4 | \n",
    "| Friday | 5 | \n",
    "| Saturday | 6 |\n",
    "\n",
    "Then, we can assign the following weekdays to dates in the year, arbitrarily starting on a Sunday:"
   ]
  },
  {
   "cell_type": "code",
   "execution_count": 2,
   "id": "f4d865ac-4e8d-47fd-8fab-636799afb576",
   "metadata": {},
   "outputs": [
    {
     "data": {
      "text/plain": [
       "[(1, 1, 0),\n",
       " (1, 2, 1),\n",
       " (1, 3, 2),\n",
       " (1, 4, 3),\n",
       " (1, 5, 4),\n",
       " (1, 6, 5),\n",
       " (1, 7, 6),\n",
       " (1, 8, 0),\n",
       " (1, 9, 1),\n",
       " (1, 10, 2)]"
      ]
     },
     "execution_count": 2,
     "metadata": {},
     "output_type": "execute_result"
    }
   ],
   "source": [
    "day_with_weekdays = []\n",
    "weekday = 0\n",
    "for day in year:\n",
    "    day_with_weekdays.append(day + (weekday,))\n",
    "    weekday = (weekday + 1) % 7\n",
    "\n",
    "day_with_weekdays[:10]"
   ]
  },
  {
   "cell_type": "markdown",
   "id": "dbb0259d-796a-4293-bb58-eddc9b6a2582",
   "metadata": {},
   "source": [
    "Of course, we could have started with another day as the first day of the year, but the aspect I want to highlight is that the relative distance between days does not change. "
   ]
  },
  {
   "cell_type": "markdown",
   "id": "2c439c80-c2c8-4607-bdb7-4e98d2f91313",
   "metadata": {},
   "source": [
    "Now, let’s see if we can pick out patterns. To do see let’s lay the days out \"spatially\". \n",
    "\n",
    "What I mean is that we can assigne 2D coordinates to each day of the year by setting the week number as the integer part of $d / 7$ and its row as the remainder of $d/7$. "
   ]
  },
  {
   "cell_type": "code",
   "execution_count": 3,
   "id": "60389670-b19a-4a15-abea-99549e62edc1",
   "metadata": {},
   "outputs": [],
   "source": [
    "def year2coords(year):\n",
    "    coords = {}\n",
    "    weekday = 0\n",
    "    for day in year:\n",
    "        col = weekday // 7\n",
    "        row = weekday % 7\n",
    "        coords[(row, col)] = f\"{day[0]}:{day[1]}\"\n",
    "        weekday+= 1\n",
    "    return coords\n",
    "\n",
    "coords = year2coords(year)"
   ]
  },
  {
   "cell_type": "markdown",
   "id": "184ce617-9c37-4721-9987-6a360b376bd2",
   "metadata": {},
   "source": [
    "Now, we can build an HTML table with this data."
   ]
  },
  {
   "cell_type": "code",
   "execution_count": 4,
   "id": "3a45a111-b3aa-4f55-95bc-ee536666c472",
   "metadata": {},
   "outputs": [
    {
     "data": {
      "text/html": [
       "<h1>normal year</h1><table><tr><td>1:1</td><td>1:8</td><td>1:15</td><td>1:22</td><td>1:29</td><td>2:5</td><td>2:12</td><td>2:19</td><td>2:26</td><td>3:5</td><td>3:12</td><td>3:19</td><td>3:26</td><td>4:2</td><td>4:9</td><td>4:16</td><td>4:23</td><td>4:30</td><td>5:7</td><td>5:14</td><td>5:21</td><td>5:28</td><td>6:4</td><td>6:11</td><td>6:18</td><td>6:25</td><td>7:2</td><td>7:9</td><td>7:16</td><td>7:23</td><td>7:30</td><td>8:6</td><td>8:13</td><td>8:20</td><td>8:27</td><td>9:3</td><td>9:10</td><td>9:17</td><td>9:24</td><td>10:1</td><td>10:8</td><td>10:15</td><td>10:22</td><td>10:29</td><td>11:5</td><td>11:12</td><td>11:19</td><td>11:26</td><td>12:3</td><td>12:10</td><td>12:17</td><td>12:24</td><td>12:31</td></tr><tr><td>1:2</td><td>1:9</td><td>1:16</td><td>1:23</td><td>1:30</td><td>2:6</td><td>2:13</td><td>2:20</td><td>2:27</td><td>3:6</td><td>3:13</td><td>3:20</td><td>3:27</td><td>4:3</td><td>4:10</td><td>4:17</td><td>4:24</td><td>5:1</td><td>5:8</td><td>5:15</td><td>5:22</td><td>5:29</td><td>6:5</td><td>6:12</td><td>6:19</td><td>6:26</td><td>7:3</td><td>7:10</td><td>7:17</td><td>7:24</td><td>7:31</td><td>8:7</td><td>8:14</td><td>8:21</td><td>8:28</td><td>9:4</td><td>9:11</td><td>9:18</td><td>9:25</td><td>10:2</td><td>10:9</td><td>10:16</td><td>10:23</td><td>10:30</td><td>11:6</td><td>11:13</td><td>11:20</td><td>11:27</td><td>12:4</td><td>12:11</td><td>12:18</td><td>12:25</td><td></td></tr><tr><td><b>1:3</b></td><td><b>1:10</b></td><td><b>1:17</b></td><td><b>1:24</b></td><td><b>1:31</b></td><td><b>2:7</b></td><td><b>2:14</b></td><td><b>2:21</b></td><td><b>2:28</b></td><td><b>3:7</b></td><td><b>3:14</b></td><td><b>3:21</b></td><td><b>3:28</b></td><td><b>4:4</b></td><td><b>4:11</b></td><td><b>4:18</b></td><td><b>4:25</b></td><td><b>5:2</b></td><td><b>5:9</b></td><td><b>5:16</b></td><td><b>5:23</b></td><td><b>5:30</b></td><td><b>6:6</b></td><td><b>6:13</b></td><td><b>6:20</b></td><td><b>6:27</b></td><td><b>7:4</b></td><td><b>7:11</b></td><td><b>7:18</b></td><td><b>7:25</b></td><td><b>8:1</b></td><td><b>8:8</b></td><td><b>8:15</b></td><td><b>8:22</b></td><td><b>8:29</b></td><td><b>9:5</b></td><td><b>9:12</b></td><td><b>9:19</b></td><td><b>9:26</b></td><td><b>10:3</b></td><td><b>10:10</b></td><td><b>10:17</b></td><td><b>10:24</b></td><td><b>10:31</b></td><td><b>11:7</b></td><td><b>11:14</b></td><td><b>11:21</b></td><td><b>11:28</b></td><td><b>12:5</b></td><td><b>12:12</b></td><td><b>12:19</b></td><td><b>12:26</b></td><td><b></b></td></tr><tr><td>1:4</td><td>1:11</td><td>1:18</td><td>1:25</td><td>2:1</td><td>2:8</td><td>2:15</td><td>2:22</td><td>3:1</td><td>3:8</td><td>3:15</td><td>3:22</td><td>3:29</td><td>4:5</td><td>4:12</td><td>4:19</td><td>4:26</td><td>5:3</td><td>5:10</td><td>5:17</td><td>5:24</td><td>5:31</td><td>6:7</td><td>6:14</td><td>6:21</td><td>6:28</td><td>7:5</td><td>7:12</td><td>7:19</td><td>7:26</td><td>8:2</td><td>8:9</td><td>8:16</td><td>8:23</td><td>8:30</td><td>9:6</td><td>9:13</td><td>9:20</td><td>9:27</td><td>10:4</td><td>10:11</td><td>10:18</td><td>10:25</td><td>11:1</td><td>11:8</td><td>11:15</td><td>11:22</td><td>11:29</td><td>12:6</td><td>12:13</td><td>12:20</td><td>12:27</td><td></td></tr><tr><td>1:5</td><td>1:12</td><td>1:19</td><td>1:26</td><td>2:2</td><td>2:9</td><td>2:16</td><td>2:23</td><td>3:2</td><td>3:9</td><td>3:16</td><td>3:23</td><td>3:30</td><td>4:6</td><td>4:13</td><td>4:20</td><td>4:27</td><td>5:4</td><td>5:11</td><td>5:18</td><td>5:25</td><td>6:1</td><td>6:8</td><td>6:15</td><td>6:22</td><td>6:29</td><td>7:6</td><td>7:13</td><td>7:20</td><td>7:27</td><td>8:3</td><td>8:10</td><td>8:17</td><td>8:24</td><td>8:31</td><td>9:7</td><td>9:14</td><td>9:21</td><td>9:28</td><td>10:5</td><td>10:12</td><td>10:19</td><td>10:26</td><td>11:2</td><td>11:9</td><td>11:16</td><td>11:23</td><td>11:30</td><td>12:7</td><td>12:14</td><td>12:21</td><td>12:28</td><td></td></tr><tr><td>1:6</td><td>1:13</td><td>1:20</td><td>1:27</td><td>2:3</td><td>2:10</td><td>2:17</td><td>2:24</td><td>3:3</td><td>3:10</td><td>3:17</td><td>3:24</td><td>3:31</td><td>4:7</td><td>4:14</td><td>4:21</td><td>4:28</td><td>5:5</td><td>5:12</td><td>5:19</td><td>5:26</td><td>6:2</td><td>6:9</td><td>6:16</td><td>6:23</td><td>6:30</td><td>7:7</td><td>7:14</td><td>7:21</td><td>7:28</td><td>8:4</td><td>8:11</td><td>8:18</td><td>8:25</td><td>9:1</td><td>9:8</td><td>9:15</td><td>9:22</td><td>9:29</td><td>10:6</td><td>10:13</td><td>10:20</td><td>10:27</td><td>11:3</td><td>11:10</td><td>11:17</td><td>11:24</td><td>12:1</td><td>12:8</td><td>12:15</td><td>12:22</td><td>12:29</td><td></td></tr><tr><td>1:7</td><td>1:14</td><td>1:21</td><td>1:28</td><td>2:4</td><td>2:11</td><td>2:18</td><td>2:25</td><td>3:4</td><td>3:11</td><td>3:18</td><td>3:25</td><td>4:1</td><td>4:8</td><td>4:15</td><td>4:22</td><td>4:29</td><td>5:6</td><td>5:13</td><td>5:20</td><td>5:27</td><td>6:3</td><td>6:10</td><td>6:17</td><td>6:24</td><td>7:1</td><td>7:8</td><td>7:15</td><td>7:22</td><td>7:29</td><td>8:5</td><td>8:12</td><td>8:19</td><td>8:26</td><td>9:2</td><td>9:9</td><td>9:16</td><td>9:23</td><td>9:30</td><td>10:7</td><td>10:14</td><td>10:21</td><td>10:28</td><td>11:4</td><td>11:11</td><td>11:18</td><td>11:25</td><td>12:2</td><td>12:9</td><td>12:16</td><td>12:23</td><td>12:30</td><td></td></tr></table>"
      ],
      "text/plain": [
       "<IPython.core.display.HTML object>"
      ]
     },
     "execution_count": 4,
     "metadata": {},
     "output_type": "execute_result"
    }
   ],
   "source": [
    "from IPython.display import HTML\n",
    "\n",
    "def make_html(coords, title, highlight_row=2):\n",
    "    html = f\"<h1>{title}</h1><table>\"\n",
    "    for row in range(7):\n",
    "        if row == highlight_row:\n",
    "            prefix = \"<b>\"\n",
    "            suffix = \"</b>\"\n",
    "        else:\n",
    "            prefix, suffix = \"\", \"\"\n",
    "        html += \"<tr>\"\n",
    "        for col in range(53):\n",
    "            html += f\"<td>{prefix}{coords.get((row, col), \"\")}{suffix}</td>\"\n",
    "        html += \"</tr>\"\n",
    "    html += \"</table>\"\n",
    "    return html\n",
    "    \n",
    "HTML(make_html(coords, 'normal year'))"
   ]
  },
  {
   "cell_type": "markdown",
   "id": "3daada3e-e14e-4947-98bc-2b75892b08e7",
   "metadata": {},
   "source": [
    "As one can see in the above diagram, the highlighted line shows the patterns that are used for the doomsday algorithm. These days are used as markers to compute the weekday for dates relative to them. These are the so-called **doomsdays**.\n",
    "\n",
    "Some of them nicely fit into the following mnemonics:\n",
    "\n",
    "- 4/4, 6/6, 8/8, 10/10, 12/12\n",
    "- \"working 9-5 at 7-11\" gives the pairs for 9/5, 5/9, 7/11, 11/7\n"
   ]
  },
  {
   "cell_type": "markdown",
   "id": "33275c8e-8e8e-4e9e-96d8-ba2272e5796d",
   "metadata": {},
   "source": [
    "January and February pose a particular problem due to the possibily of leap years, which disturb the ordering for the days before the leap day. Let’s see how this modifies the table."
   ]
  },
  {
   "cell_type": "code",
   "execution_count": 5,
   "id": "7d35ad6f-c99d-4f98-b00b-e2a791008424",
   "metadata": {},
   "outputs": [
    {
     "data": {
      "text/plain": [
       "366"
      ]
     },
     "execution_count": 5,
     "metadata": {},
     "output_type": "execute_result"
    }
   ],
   "source": [
    "leap_year = []\n",
    "\n",
    "leap_months = [31, 29, 31, 30, 31, 30, 31, 31, 30, 31, 30, 31]\n",
    "for month in range(len(leap_months)):\n",
    "    days = leap_months[month]\n",
    "    for day in range(days):\n",
    "        leap_year.append((month + 1, day + 1))\n",
    "\n",
    "len(leap_year)"
   ]
  },
  {
   "cell_type": "code",
   "execution_count": 6,
   "id": "b7840b3f-1767-4726-9c76-ef4cc8849266",
   "metadata": {},
   "outputs": [
    {
     "data": {
      "text/html": [
       "<h1>leap_year</h1><table><tr><td>1:1</td><td>1:8</td><td>1:15</td><td>1:22</td><td>1:29</td><td>2:5</td><td>2:12</td><td>2:19</td><td>2:26</td><td>3:4</td><td>3:11</td><td>3:18</td><td>3:25</td><td>4:1</td><td>4:8</td><td>4:15</td><td>4:22</td><td>4:29</td><td>5:6</td><td>5:13</td><td>5:20</td><td>5:27</td><td>6:3</td><td>6:10</td><td>6:17</td><td>6:24</td><td>7:1</td><td>7:8</td><td>7:15</td><td>7:22</td><td>7:29</td><td>8:5</td><td>8:12</td><td>8:19</td><td>8:26</td><td>9:2</td><td>9:9</td><td>9:16</td><td>9:23</td><td>9:30</td><td>10:7</td><td>10:14</td><td>10:21</td><td>10:28</td><td>11:4</td><td>11:11</td><td>11:18</td><td>11:25</td><td>12:2</td><td>12:9</td><td>12:16</td><td>12:23</td><td>12:30</td></tr><tr><td>1:2</td><td>1:9</td><td>1:16</td><td>1:23</td><td>1:30</td><td>2:6</td><td>2:13</td><td>2:20</td><td>2:27</td><td>3:5</td><td>3:12</td><td>3:19</td><td>3:26</td><td>4:2</td><td>4:9</td><td>4:16</td><td>4:23</td><td>4:30</td><td>5:7</td><td>5:14</td><td>5:21</td><td>5:28</td><td>6:4</td><td>6:11</td><td>6:18</td><td>6:25</td><td>7:2</td><td>7:9</td><td>7:16</td><td>7:23</td><td>7:30</td><td>8:6</td><td>8:13</td><td>8:20</td><td>8:27</td><td>9:3</td><td>9:10</td><td>9:17</td><td>9:24</td><td>10:1</td><td>10:8</td><td>10:15</td><td>10:22</td><td>10:29</td><td>11:5</td><td>11:12</td><td>11:19</td><td>11:26</td><td>12:3</td><td>12:10</td><td>12:17</td><td>12:24</td><td>12:31</td></tr><tr><td>1:3</td><td>1:10</td><td>1:17</td><td>1:24</td><td>1:31</td><td>2:7</td><td>2:14</td><td>2:21</td><td>2:28</td><td>3:6</td><td>3:13</td><td>3:20</td><td>3:27</td><td>4:3</td><td>4:10</td><td>4:17</td><td>4:24</td><td>5:1</td><td>5:8</td><td>5:15</td><td>5:22</td><td>5:29</td><td>6:5</td><td>6:12</td><td>6:19</td><td>6:26</td><td>7:3</td><td>7:10</td><td>7:17</td><td>7:24</td><td>7:31</td><td>8:7</td><td>8:14</td><td>8:21</td><td>8:28</td><td>9:4</td><td>9:11</td><td>9:18</td><td>9:25</td><td>10:2</td><td>10:9</td><td>10:16</td><td>10:23</td><td>10:30</td><td>11:6</td><td>11:13</td><td>11:20</td><td>11:27</td><td>12:4</td><td>12:11</td><td>12:18</td><td>12:25</td><td></td></tr><tr><td><b>1:4</b></td><td><b>1:11</b></td><td><b>1:18</b></td><td><b>1:25</b></td><td><b>2:1</b></td><td><b>2:8</b></td><td><b>2:15</b></td><td><b>2:22</b></td><td><b>2:29</b></td><td><b>3:7</b></td><td><b>3:14</b></td><td><b>3:21</b></td><td><b>3:28</b></td><td><b>4:4</b></td><td><b>4:11</b></td><td><b>4:18</b></td><td><b>4:25</b></td><td><b>5:2</b></td><td><b>5:9</b></td><td><b>5:16</b></td><td><b>5:23</b></td><td><b>5:30</b></td><td><b>6:6</b></td><td><b>6:13</b></td><td><b>6:20</b></td><td><b>6:27</b></td><td><b>7:4</b></td><td><b>7:11</b></td><td><b>7:18</b></td><td><b>7:25</b></td><td><b>8:1</b></td><td><b>8:8</b></td><td><b>8:15</b></td><td><b>8:22</b></td><td><b>8:29</b></td><td><b>9:5</b></td><td><b>9:12</b></td><td><b>9:19</b></td><td><b>9:26</b></td><td><b>10:3</b></td><td><b>10:10</b></td><td><b>10:17</b></td><td><b>10:24</b></td><td><b>10:31</b></td><td><b>11:7</b></td><td><b>11:14</b></td><td><b>11:21</b></td><td><b>11:28</b></td><td><b>12:5</b></td><td><b>12:12</b></td><td><b>12:19</b></td><td><b>12:26</b></td><td><b></b></td></tr><tr><td>1:5</td><td>1:12</td><td>1:19</td><td>1:26</td><td>2:2</td><td>2:9</td><td>2:16</td><td>2:23</td><td>3:1</td><td>3:8</td><td>3:15</td><td>3:22</td><td>3:29</td><td>4:5</td><td>4:12</td><td>4:19</td><td>4:26</td><td>5:3</td><td>5:10</td><td>5:17</td><td>5:24</td><td>5:31</td><td>6:7</td><td>6:14</td><td>6:21</td><td>6:28</td><td>7:5</td><td>7:12</td><td>7:19</td><td>7:26</td><td>8:2</td><td>8:9</td><td>8:16</td><td>8:23</td><td>8:30</td><td>9:6</td><td>9:13</td><td>9:20</td><td>9:27</td><td>10:4</td><td>10:11</td><td>10:18</td><td>10:25</td><td>11:1</td><td>11:8</td><td>11:15</td><td>11:22</td><td>11:29</td><td>12:6</td><td>12:13</td><td>12:20</td><td>12:27</td><td></td></tr><tr><td>1:6</td><td>1:13</td><td>1:20</td><td>1:27</td><td>2:3</td><td>2:10</td><td>2:17</td><td>2:24</td><td>3:2</td><td>3:9</td><td>3:16</td><td>3:23</td><td>3:30</td><td>4:6</td><td>4:13</td><td>4:20</td><td>4:27</td><td>5:4</td><td>5:11</td><td>5:18</td><td>5:25</td><td>6:1</td><td>6:8</td><td>6:15</td><td>6:22</td><td>6:29</td><td>7:6</td><td>7:13</td><td>7:20</td><td>7:27</td><td>8:3</td><td>8:10</td><td>8:17</td><td>8:24</td><td>8:31</td><td>9:7</td><td>9:14</td><td>9:21</td><td>9:28</td><td>10:5</td><td>10:12</td><td>10:19</td><td>10:26</td><td>11:2</td><td>11:9</td><td>11:16</td><td>11:23</td><td>11:30</td><td>12:7</td><td>12:14</td><td>12:21</td><td>12:28</td><td></td></tr><tr><td>1:7</td><td>1:14</td><td>1:21</td><td>1:28</td><td>2:4</td><td>2:11</td><td>2:18</td><td>2:25</td><td>3:3</td><td>3:10</td><td>3:17</td><td>3:24</td><td>3:31</td><td>4:7</td><td>4:14</td><td>4:21</td><td>4:28</td><td>5:5</td><td>5:12</td><td>5:19</td><td>5:26</td><td>6:2</td><td>6:9</td><td>6:16</td><td>6:23</td><td>6:30</td><td>7:7</td><td>7:14</td><td>7:21</td><td>7:28</td><td>8:4</td><td>8:11</td><td>8:18</td><td>8:25</td><td>9:1</td><td>9:8</td><td>9:15</td><td>9:22</td><td>9:29</td><td>10:6</td><td>10:13</td><td>10:20</td><td>10:27</td><td>11:3</td><td>11:10</td><td>11:17</td><td>11:24</td><td>12:1</td><td>12:8</td><td>12:15</td><td>12:22</td><td>12:29</td><td></td></tr></table>"
      ],
      "text/plain": [
       "<IPython.core.display.HTML object>"
      ]
     },
     "execution_count": 6,
     "metadata": {},
     "output_type": "execute_result"
    }
   ],
   "source": [
    "leap_coords = year2coords(leap_year)\n",
    "HTML(make_html(leap_coords, 'leap_year', highlight_row=3))"
   ]
  },
  {
   "cell_type": "markdown",
   "id": "53c0aa1b-a9bb-4dad-982f-0bebf13974b0",
   "metadata": {},
   "source": [
    "As the above shows, the addition of the 29th of February shifts the special row down by one. This enables us to find the rule for January and February.\n",
    "\n",
    "- normal year: 1/3 and 2/28\n",
    "- leap year: 1/4 and 2/29\n",
    "\n",
    "The above can be simplified for February to \"the last day of february\". \n",
    "\n",
    "Another relevant observation relates to the 0th day of several months. The 0th of March is a doomsday, which is a nice thing because this simplifies the computation of a weekday in March to just modulo 7 of the days. This is also true for the 0th of November. And for the 0th of February but only in normal years."
   ]
  },
  {
   "cell_type": "markdown",
   "id": "ee06b756-b773-4603-9480-634362295a6b",
   "metadata": {},
   "source": [
    "So finally, here’s my own list of useful doomsdays.\n",
    "\n",
    "- January: 1/3 (normal) or 1/4 **leap year**\n",
    "- February: 2/0 and 2/28 (last day) (normal) or 2/1 and 2/29 (last day) **leap year**\n",
    "- March: 3/0 and 3/14\n",
    "- April: 4/4\n",
    "- May: 5/9\n",
    "- June: 6/6\n",
    "- July: 7/11\n",
    "- August: 8/8\n",
    "- Septembre: 9/5\n",
    "- October: 10/10\n",
    "- November: 11/0 and 11/7\n",
    "- December: 12/12\n",
    "\n",
    "Now, if you want to try and have fun, you can check out my colleague Xavier’s implementation here: https://xavartley.github.io/#misc/guess_the_weekday.html"
   ]
  },
  {
   "cell_type": "markdown",
   "id": "f6ead5e3-b1aa-4ba9-8e27-513772f9d454",
   "metadata": {},
   "source": [
    "*This post was entirely written using the Jupyter Notebook. Its content is BSD-licensed. You can see a static view or download this notebook with the help of nbviewer at [20250904_doomsday_algorithm.ipynb](http://nbviewer.ipython.org/urls/raw.github.com/flothesof/posts/master/20250904_doomsday_algorithm.ipynb).*"
   ]
  }
 ],
 "metadata": {
  "kernelspec": {
   "display_name": "Python 3 (ipykernel)",
   "language": "python",
   "name": "python3"
  },
  "language_info": {
   "codemirror_mode": {
    "name": "ipython",
    "version": 3
   },
   "file_extension": ".py",
   "mimetype": "text/x-python",
   "name": "python",
   "nbconvert_exporter": "python",
   "pygments_lexer": "ipython3",
   "version": "3.12.7"
  },
  "widgets": {
   "application/vnd.jupyter.widget-state+json": {
    "state": {},
    "version_major": 2,
    "version_minor": 0
   }
  }
 },
 "nbformat": 4,
 "nbformat_minor": 5
}
