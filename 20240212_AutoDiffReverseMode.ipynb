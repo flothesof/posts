{
 "cells": [
  {
   "attachments": {
    "19ae21d7-89bc-49b1-9ef1-383e18bb951d.png": {
     "image/png": "[encoded data removed]"
    }
   },
   "cell_type": "markdown",
   "id": "5e76358f-7b96-4031-b8bb-c7d97283a31e",
   "metadata": {},
   "source": [
    "In a [previous blog post](http://flothesof.github.io/auto-diff-forward-mode.html), I examined how the forward mode of automatic differentiation worked using single-variable examples.\n",
    "\n",
    "Having done that, I would like to now complete the perspective by adding something about the reverse mode of automatic differentiation. \n",
    "\n",
    "# A bit of theory\n",
    "\n",
    "The reverse mode is a neat alternative to the forward mode. Put another way, both are computing the same derivatives but they do it in different ways.\n",
    "\n",
    "To illustrate the difference between both, I’ve come up with the following table:\n",
    "\n",
    "\n",
    "| case | forward | backward |\n",
    "| ---- | ---- | ---- |\n",
    "| what are we trying to solve for? | a dot derivative $$\\dot{v_i} = \\frac{\\partial v_i}{\\partial x}$$ | an adjoint variable $$\\bar{v}_i = \\frac{\\partial y}{\\partial v_i}$$ |\n",
    "| what is the relationship between nodes? | $$\\dot{v}_{i+1} = \\frac{\\partial f}{\\partial v_i} \\dot{v}_i$$ | $$\\bar{v}_{i} = \\frac{\\partial f}{\\partial v_i} \\bar{v}_{i+1}$$ |\n",
    "\n",
    "In the above, I denoted an output variable by $y$ and an input variable by $x$, while intermediate variables are denoted by $v_i$. This notation only applies to computational chains were at each stage we have the relationship $v_{i+1} = f(v_i)$. \n",
    "\n",
    "A key observation from the last table row is that the partial derivative $\\frac{\\partial f}{\\partial v_i}$ evaluated numerically is part of both relationships. To say it differently: knowing the partial derivative on an edge of the computational graph, you can use it to either towards the input (adjoint derivative) or towards the output (dot derivative).\n",
    "\n",
    "As an example, the following show the computational graph of $f(x) = \\exp(\\sin(\\sin(x)))$ with its derivatives:\n",
    "\n",
    "![image.png](attachment:19ae21d7-89bc-49b1-9ef1-383e18bb951d.png)\n",
    "\n",
    "Applying the ideas from the previous blog post on the **forward mode**, we would traverse the chain from left to right, from inputs to outputs, from the inner function towards the outer.\n",
    "\n",
    "In today’s post, we’ll do the opposite: go from the outputs to the inputs. However, we also need the specific values of the derivatives to go along this, so in practice we will first do a forward pass."
   ]
  },
  {
   "cell_type": "markdown",
   "id": "8682d178-a319-4f09-9b75-ee460a858102",
   "metadata": {},
   "source": [
    "# Implementation"
   ]
  },
  {
   "cell_type": "markdown",
   "id": "7d8ed42a-6adb-4f69-9e5b-6ceca5c529d4",
   "metadata": {},
   "source": [
    "We will reuse the `Valder` class from last time to implement the reverse mode. The class allows to hold both function values and numerical derivative values at the evaluation point."
   ]
  },
  {
   "cell_type": "code",
   "execution_count": 1,
   "id": "4f5d67a0-014e-4320-8ca7-2fdc3e25b7d9",
   "metadata": {},
   "outputs": [],
   "source": [
    "class Valder:\n",
    "    def __init__(self, val=None, der=None):\n",
    "        if val is None:\n",
    "            raise RuntimeError(\"User should provide at least one value to init Valder class!\")\n",
    "        else:\n",
    "            if der is None:\n",
    "                # shorthand for a constant value\n",
    "                self.val = val\n",
    "                self.der = 0\n",
    "            else:\n",
    "                # general case\n",
    "                self.val = val\n",
    "                self.der = der\n",
    "                \n",
    "    def __repr__(self):\n",
    "        return f\"Valder(val={self.val}, der={self.der})\""
   ]
  },
  {
   "cell_type": "markdown",
   "id": "03f8de7d-c362-4aef-9858-86b3cb569d1d",
   "metadata": {},
   "source": [
    "Now, we want to define the chain by specifying the `exp` and `sin` functions. These will be written to operate on `Valder`s, as in the previous post, so that we can then use them in the reverse mode."
   ]
  },
  {
   "cell_type": "code",
   "execution_count": 2,
   "id": "2493b409-e5b4-4bd0-9c13-b9331b4980a4",
   "metadata": {},
   "outputs": [],
   "source": [
    "from math import sin as math_sin, cos as math_cos\n",
    "from math import exp as math_exp\n",
    "\n",
    "def sin(valder):\n",
    "    x, dx = valder.val, valder.der\n",
    "    return Valder(math_sin(x), math_cos(x))\n",
    "\n",
    "def exp(valder):\n",
    "    x, dx = valder.val, valder.der\n",
    "    return Valder(math_exp(x), math_exp(x))"
   ]
  },
  {
   "cell_type": "markdown",
   "id": "0c9fe834-9409-47be-9651-705213f55bb7",
   "metadata": {},
   "source": [
    "Finally, the specify the computational chain. It is here written from left to right, in the order of operation application."
   ]
  },
  {
   "cell_type": "code",
   "execution_count": 3,
   "id": "e12a4ef5-e1c9-41fb-8e85-a568e74d37a6",
   "metadata": {},
   "outputs": [],
   "source": [
    "chain = [sin, sin, exp]"
   ]
  },
  {
   "cell_type": "markdown",
   "id": "14932efc-aa1d-44ae-b71b-34918efa589b",
   "metadata": {},
   "source": [
    "With these elements in place, we can now implement the reverse mode. It first traverses the chain from left to right and then from right to left to return $\\frac{\\partial f}{\\partial x}$ for $f(x) = \\exp(\\sin(\\sin(x)))$."
   ]
  },
  {
   "cell_type": "code",
   "execution_count": 4,
   "id": "fdf8fbfc-83a1-4a3b-bcbc-080ec503661a",
   "metadata": {},
   "outputs": [
    {
     "data": {
      "text/plain": [
       "(2.2013533791690376, -0.562752038662712)"
      ]
     },
     "execution_count": 4,
     "metadata": {},
     "output_type": "execute_result"
    }
   ],
   "source": [
    "def reverse_mode(chain, input_value, dy):\n",
    "    \n",
    "    # forward pass\n",
    "    val = input_value\n",
    "    derivs = []\n",
    "    for op in chain:\n",
    "        val = op(val)\n",
    "        derivs.append(val.der)\n",
    "        \n",
    "    # backward pass\n",
    "    der = dy\n",
    "    for derivative_value in reversed(derivs):\n",
    "        der *= derivative_value\n",
    "    return val, der\n",
    "\n",
    "val, der = reverse_mode(chain, Valder(2.0, 0), 1.)\n",
    "\n",
    "val.val, der"
   ]
  },
  {
   "cell_type": "markdown",
   "id": "18880e7c-2f4a-4ddc-a586-730dabcaa622",
   "metadata": {},
   "source": [
    "Let’s compare this with a finite difference evaluation:"
   ]
  },
  {
   "cell_type": "code",
   "execution_count": 5,
   "id": "c85cc005-fcb3-4c83-9fc2-34b2a9ae590d",
   "metadata": {},
   "outputs": [
    {
     "data": {
      "text/plain": [
       "(2.2013533791690376, -0.5627520671680486)"
      ]
     },
     "execution_count": 5,
     "metadata": {},
     "output_type": "execute_result"
    }
   ],
   "source": [
    "import numpy as np\n",
    "eps = 1e-8\n",
    "\n",
    "np.exp(np.sin(np.sin(2.))), (np.exp(np.sin(np.sin(2. + eps))) - np.exp(np.sin(np.sin(2.)))) / eps"
   ]
  },
  {
   "cell_type": "markdown",
   "id": "9eb01cbb-3fdb-489a-88d3-17ba584005cf",
   "metadata": {},
   "source": [
    "This seems to work!"
   ]
  },
  {
   "cell_type": "markdown",
   "id": "b10b6a85-d7b0-44cf-afbb-b0d5c3646ae0",
   "metadata": {},
   "source": [
    "Credits for finally understanding the approach and this specific example go to the following YT video: [Simple reverse-mode Autodiff in Python](https://www.youtube.com/watch?v=lWTSI55HC_c)"
   ]
  },
  {
   "cell_type": "markdown",
   "id": "928d614b-251b-4944-bacb-7a73f1634fac",
   "metadata": {},
   "source": [
    "*This post was entirely written using the Jupyter Notebook. Its content is BSD-licensed. You can see a static view or download this notebook with the help of nbviewer at [20240212_AutoDiffReverseMode.ipynb](http://nbviewer.ipython.org/urls/raw.github.com/flothesof/posts/master/20240212_AutoDiffReverseMode.ipynb).*"
   ]
  }
 ],
 "metadata": {
  "kernelspec": {
   "display_name": "Python 3 (ipykernel)",
   "language": "python",
   "name": "python3"
  },
  "language_info": {
   "codemirror_mode": {
    "name": "ipython",
    "version": 3
   },
   "file_extension": ".py",
   "mimetype": "text/x-python",
   "name": "python",
   "nbconvert_exporter": "python",
   "pygments_lexer": "ipython3",
   "version": "3.9.16"
  }
 },
 "nbformat": 4,
 "nbformat_minor": 5
}
