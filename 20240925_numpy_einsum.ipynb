{
 "cells": [
  {
   "cell_type": "markdown",
   "id": "1c87e768-3e3b-41cb-a27b-63aed7a43def",
   "metadata": {},
   "source": [
    "Ever since learning about Einstein summation notation a couple of years ago (in 2020), I have been fascinated by it.\n",
    "\n",
    "[INSERT Einstein quote about simplyfing math]\n",
    "\n",
    "[INSERT quick recap of rules here]\n",
    "\n",
    "So when I learned about `numpy`’s `einsum` function, I knew that the time would come when I would like to apply it. This blog post is here to discuss my use case."
   ]
  },
  {
   "cell_type": "markdown",
   "id": "de33420e-ca5d-4176-b937-75cac431fe04",
   "metadata": {},
   "source": [
    "# Quick intro to `np.einsum`"
   ]
  },
  {
   "cell_type": "code",
   "execution_count": 18,
   "id": "c2a86571-aed2-4884-9afa-6f43e2f5947c",
   "metadata": {},
   "outputs": [],
   "source": [
    "import numpy as np\n",
    "\n",
    "vec_a = np.arange(5)\n",
    "\n",
    "vec_b = np.arange(5) + 4\n",
    "\n",
    "mat_A = vec_a[:, None] @ vec_b[:, None].T"
   ]
  },
  {
   "cell_type": "code",
   "execution_count": 19,
   "id": "83292cd4-5462-4f41-8061-aa8ad38b2b81",
   "metadata": {},
   "outputs": [
    {
     "data": {
      "text/plain": [
       "array([[ 0,  0,  0,  0,  0],\n",
       "       [ 4,  5,  6,  7,  8],\n",
       "       [ 8, 10, 12, 14, 16],\n",
       "       [12, 15, 18, 21, 24],\n",
       "       [16, 20, 24, 28, 32]])"
      ]
     },
     "execution_count": 19,
     "metadata": {},
     "output_type": "execute_result"
    }
   ],
   "source": [
    "mat_A"
   ]
  },
  {
   "cell_type": "code",
   "execution_count": 11,
   "id": "7e879e63-bcf8-41b0-b75a-917ef9307732",
   "metadata": {},
   "outputs": [
    {
     "data": {
      "text/plain": [
       "array([[ 0,  0,  0,  0,  0],\n",
       "       [ 4,  5,  6,  7,  8],\n",
       "       [ 8, 10, 12, 14, 16],\n",
       "       [12, 15, 18, 21, 24],\n",
       "       [16, 20, 24, 28, 32]])"
      ]
     },
     "execution_count": 11,
     "metadata": {},
     "output_type": "execute_result"
    }
   ],
   "source": [
    "np.einsum('i,j', vec_a, vec_b)"
   ]
  },
  {
   "cell_type": "markdown",
   "id": "7fd97a84-92b7-41ed-9f90-29b302fadd62",
   "metadata": {},
   "source": [
    "We can also specify (explicit mode) on which indices the summation should occur with `->`."
   ]
  },
  {
   "cell_type": "code",
   "execution_count": 23,
   "id": "1b953f40-4164-4970-8422-d4c553eba885",
   "metadata": {},
   "outputs": [
    {
     "data": {
      "text/plain": [
       "array([  0,  30,  60,  90, 120])"
      ]
     },
     "execution_count": 23,
     "metadata": {},
     "output_type": "execute_result"
    }
   ],
   "source": [
    "np.einsum('i,j->i', vec_a, vec_b)"
   ]
  },
  {
   "cell_type": "markdown",
   "id": "ce4e4476-68a7-41ad-8766-ea596dfd610d",
   "metadata": {},
   "source": [
    "Here, this sums on index j, leaving one free index i. So the indices after the `->` are the free ones and the others are eliminated."
   ]
  },
  {
   "cell_type": "code",
   "execution_count": 13,
   "id": "85b4fb5c-18cd-4e71-8989-0e2696e0d9e0",
   "metadata": {},
   "outputs": [
    {
     "data": {
      "text/plain": [
       "array([40, 50, 60, 70, 80])"
      ]
     },
     "execution_count": 13,
     "metadata": {},
     "output_type": "execute_result"
    }
   ],
   "source": [
    "np.einsum('i,j->j', vec_a, vec_b)"
   ]
  },
  {
   "cell_type": "markdown",
   "id": "a0ec54c4-8a75-4db5-a350-8bba487c6b31",
   "metadata": {},
   "source": [
    "Then, there is the repeating of indices."
   ]
  },
  {
   "cell_type": "code",
   "execution_count": 27,
   "id": "fa3f44dc-66c5-4373-9a76-c71b5fed81fe",
   "metadata": {},
   "outputs": [
    {
     "data": {
      "text/plain": [
       "np.int64(70)"
      ]
     },
     "execution_count": 27,
     "metadata": {},
     "output_type": "execute_result"
    }
   ],
   "source": [
    "np.einsum('ii', mat_A) # sums on diagonal"
   ]
  },
  {
   "cell_type": "code",
   "execution_count": 28,
   "id": "f66fb66e-7bd1-4d4a-8cf5-9c20a32e1b59",
   "metadata": {},
   "outputs": [
    {
     "data": {
      "text/plain": [
       "np.int64(70)"
      ]
     },
     "execution_count": 28,
     "metadata": {},
     "output_type": "execute_result"
    }
   ],
   "source": [
    "np.trace(mat_A)"
   ]
  },
  {
   "cell_type": "code",
   "execution_count": 30,
   "id": "ba8cb29d-d6b0-479b-a796-1a03dce6e280",
   "metadata": {},
   "outputs": [
    {
     "data": {
      "text/plain": [
       "array([40, 50, 60, 70, 80])"
      ]
     },
     "execution_count": 30,
     "metadata": {},
     "output_type": "execute_result"
    }
   ],
   "source": [
    "np.einsum('ij->j', mat_A)"
   ]
  },
  {
   "cell_type": "code",
   "execution_count": null,
   "id": "692a0719-8beb-49e6-a840-6fdf3644bed9",
   "metadata": {},
   "outputs": [],
   "source": []
  }
 ],
 "metadata": {
  "kernelspec": {
   "display_name": "Python 3 (ipykernel)",
   "language": "python",
   "name": "python3"
  },
  "language_info": {
   "codemirror_mode": {
    "name": "ipython",
    "version": 3
   },
   "file_extension": ".py",
   "mimetype": "text/x-python",
   "name": "python",
   "nbconvert_exporter": "python",
   "pygments_lexer": "ipython3",
   "version": "3.12.7"
  }
 },
 "nbformat": 4,
 "nbformat_minor": 5
}
